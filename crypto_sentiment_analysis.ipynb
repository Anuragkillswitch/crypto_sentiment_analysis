{
 "cells": [
  {
   "cell_type": "code",
   "execution_count": 26,
   "metadata": {},
   "outputs": [],
   "source": [
    "import tweepy as tw\n",
    "import numpy as np\n",
    "import pandas as pd\n",
    "from matplotlib import pyplot as plt\n"
   ]
  },
  {
   "cell_type": "code",
   "execution_count": 27,
   "metadata": {},
   "outputs": [],
   "source": [
    "consumer_key=''\n",
    "consumer_secret=''\n",
    "access_token=''\n",
    "access_token_secret=''"
   ]
  },
  {
   "cell_type": "code",
   "execution_count": 28,
   "metadata": {},
   "outputs": [],
   "source": [
    "#Authenticating O-Auth\n",
    "# Authenticate\n",
    "auth = tw.OAuthHandler(consumer_key, consumer_secret)\n",
    "# Set Tokens\n",
    "auth.set_access_token(access_token, access_token_secret)\n",
    "# Instantiate API\n",
    "api = tw.API(auth, wait_on_rate_limit=True)"
   ]
  },
  {
   "cell_type": "code",
   "execution_count": 29,
   "metadata": {},
   "outputs": [
    {
     "name": "stderr",
     "output_type": "stream",
     "text": [
      "Rate limit reached. Sleeping for: 793\n",
      "Rate limit reached. Sleeping for: 795\n",
      "Rate limit reached. Sleeping for: 798\n",
      "Rate limit reached. Sleeping for: 797\n",
      "Rate limit reached. Sleeping for: 791\n",
      "Rate limit reached. Sleeping for: 791\n",
      "Rate limit reached. Sleeping for: 793\n",
      "Rate limit reached. Sleeping for: 793\n"
     ]
    }
   ],
   "source": [
    "##Choose tweets for a certain hashtag\n",
    "#We'll use tweepy cursor for that\n",
    "\n",
    "# hashtag1=input(\"Enter the first crypto code\")\n",
    "# hashtag2=input(\"Enter the second Crypto code\")\n",
    "hashtag1='#DOGE'\n",
    "hashtag2='#SHIB'\n",
    "query=tw.Cursor(api.search_tweets,q=hashtag1).items(10000)\n",
    "doge_tweets=[{'Tweets':tweet.text,'Timestamp':tweet.created_at} for tweet in query]\n",
    "query=tw.Cursor(api.search_tweets,q=hashtag2).items(10000)\n",
    "shib_tweets=[{'Tweets':tweet.text,'Timestamp':tweet.created_at} for tweet in query]\n"
   ]
  },
  {
   "cell_type": "code",
   "execution_count": 30,
   "metadata": {},
   "outputs": [
    {
     "data": {
      "text/html": [
       "<div>\n",
       "<style scoped>\n",
       "    .dataframe tbody tr th:only-of-type {\n",
       "        vertical-align: middle;\n",
       "    }\n",
       "\n",
       "    .dataframe tbody tr th {\n",
       "        vertical-align: top;\n",
       "    }\n",
       "\n",
       "    .dataframe thead th {\n",
       "        text-align: right;\n",
       "    }\n",
       "</style>\n",
       "<table border=\"1\" class=\"dataframe\">\n",
       "  <thead>\n",
       "    <tr style=\"text-align: right;\">\n",
       "      <th></th>\n",
       "      <th>Tweets</th>\n",
       "      <th>Timestamp</th>\n",
       "    </tr>\n",
       "  </thead>\n",
       "  <tbody>\n",
       "    <tr>\n",
       "      <th>0</th>\n",
       "      <td>Heyyyyyyyy @RobinhoodApp I love #SHIB because ...</td>\n",
       "      <td>2022-01-19 13:51:53+00:00</td>\n",
       "    </tr>\n",
       "    <tr>\n",
       "      <th>1</th>\n",
       "      <td>RT @MetaGiveaway: ❤️I´ll give 5.200.000.000 #S...</td>\n",
       "      <td>2022-01-19 13:51:52+00:00</td>\n",
       "    </tr>\n",
       "    <tr>\n",
       "      <th>2</th>\n",
       "      <td>RT @MeganTerra7: Good morning!❤️  \\nIf I send ...</td>\n",
       "      <td>2022-01-19 13:51:52+00:00</td>\n",
       "    </tr>\n",
       "    <tr>\n",
       "      <th>3</th>\n",
       "      <td>RT @100XCryptoGem: Which #Crypto Has The Stron...</td>\n",
       "      <td>2022-01-19 13:51:51+00:00</td>\n",
       "    </tr>\n",
       "    <tr>\n",
       "      <th>4</th>\n",
       "      <td>RT @dunscoly: #marvin...... Has prepare a plac...</td>\n",
       "      <td>2022-01-19 13:51:51+00:00</td>\n",
       "    </tr>\n",
       "  </tbody>\n",
       "</table>\n",
       "</div>"
      ],
      "text/plain": [
       "                                              Tweets                 Timestamp\n",
       "0  Heyyyyyyyy @RobinhoodApp I love #SHIB because ... 2022-01-19 13:51:53+00:00\n",
       "1  RT @MetaGiveaway: ❤️I´ll give 5.200.000.000 #S... 2022-01-19 13:51:52+00:00\n",
       "2  RT @MeganTerra7: Good morning!❤️  \\nIf I send ... 2022-01-19 13:51:52+00:00\n",
       "3  RT @100XCryptoGem: Which #Crypto Has The Stron... 2022-01-19 13:51:51+00:00\n",
       "4  RT @dunscoly: #marvin...... Has prepare a plac... 2022-01-19 13:51:51+00:00"
      ]
     },
     "execution_count": 30,
     "metadata": {},
     "output_type": "execute_result"
    }
   ],
   "source": [
    "df_doge=pd.DataFrame.from_dict(doge_tweets)\n",
    "df_shib=pd.DataFrame.from_dict(shib_tweets)\n",
    "df_doge.head()\n",
    "df_shib.head()"
   ]
  },
  {
   "cell_type": "code",
   "execution_count": 31,
   "metadata": {},
   "outputs": [
    {
     "name": "stdout",
     "output_type": "stream",
     "text": [
      "Shape of DOGE dataFrame =  (10000, 2)\n",
      "Shape of SHIB dataFrame =  (10000, 2)\n"
     ]
    }
   ],
   "source": [
    "print(\"Shape of DOGE dataFrame = \", df_doge.shape)\n",
    "print(\"Shape of SHIB dataFrame = \", df_shib.shape)"
   ]
  },
  {
   "cell_type": "code",
   "execution_count": 32,
   "metadata": {},
   "outputs": [],
   "source": [
    "doge_handle = ['Doge', 'DOGE to the moon', 'DOGE', 'DOGECOIN', 'DOGE\\'s']\n",
    "shib_handle = ['Shib', 'SHIB to the moon', 'SHIB', 'SHIBA INU','SHIBETOSHI NAKAMOTO','SHIB\\'s']"
   ]
  },
  {
   "cell_type": "code",
   "execution_count": 33,
   "metadata": {},
   "outputs": [
    {
     "data": {
      "text/html": [
       "<div>\n",
       "<style scoped>\n",
       "    .dataframe tbody tr th:only-of-type {\n",
       "        vertical-align: middle;\n",
       "    }\n",
       "\n",
       "    .dataframe tbody tr th {\n",
       "        vertical-align: top;\n",
       "    }\n",
       "\n",
       "    .dataframe thead th {\n",
       "        text-align: right;\n",
       "    }\n",
       "</style>\n",
       "<table border=\"1\" class=\"dataframe\">\n",
       "  <thead>\n",
       "    <tr style=\"text-align: right;\">\n",
       "      <th></th>\n",
       "      <th>Tweets</th>\n",
       "      <th>Timestamp</th>\n",
       "      <th>DOGE</th>\n",
       "    </tr>\n",
       "  </thead>\n",
       "  <tbody>\n",
       "    <tr>\n",
       "      <th>0</th>\n",
       "      <td>RT @DogeKnight_bsc: 🔥DogeKnight: The first P2E...</td>\n",
       "      <td>2022-01-19 12:50:56+00:00</td>\n",
       "      <td>1</td>\n",
       "    </tr>\n",
       "    <tr>\n",
       "      <th>1</th>\n",
       "      <td>RT @IAmDogeBot: Current #DOGE Price is $0.1654...</td>\n",
       "      <td>2022-01-19 12:50:51+00:00</td>\n",
       "      <td>1</td>\n",
       "    </tr>\n",
       "    <tr>\n",
       "      <th>2</th>\n",
       "      <td>RT @KriptoUzmanim: 1 Kişiye 500TL Çekilişi !! ...</td>\n",
       "      <td>2022-01-19 12:50:48+00:00</td>\n",
       "      <td>0</td>\n",
       "    </tr>\n",
       "    <tr>\n",
       "      <th>3</th>\n",
       "      <td>RT @FlokiMooni: Dear Flokimoonies,\\nwe are hap...</td>\n",
       "      <td>2022-01-19 12:50:46+00:00</td>\n",
       "      <td>0</td>\n",
       "    </tr>\n",
       "    <tr>\n",
       "      <th>4</th>\n",
       "      <td>RT @Vforrkripto: 7ay  Önce Bu Hesapta 6-7 Kişi...</td>\n",
       "      <td>2022-01-19 12:50:41+00:00</td>\n",
       "      <td>0</td>\n",
       "    </tr>\n",
       "    <tr>\n",
       "      <th>5</th>\n",
       "      <td>👑@kingforeverbsc👑 Bridged bridge 🌉 is coming, ...</td>\n",
       "      <td>2022-01-19 12:50:38+00:00</td>\n",
       "      <td>0</td>\n",
       "    </tr>\n",
       "    <tr>\n",
       "      <th>6</th>\n",
       "      <td>RT @Moon_Elon_doge: #mission_moon \\n#MED_SOLDI...</td>\n",
       "      <td>2022-01-19 12:50:35+00:00</td>\n",
       "      <td>1</td>\n",
       "    </tr>\n",
       "    <tr>\n",
       "      <th>7</th>\n",
       "      <td>RT @egeharputlu_: 🔥 #ÇEKİLİŞ 🔥\\n\\n1 Kişiye 2 a...</td>\n",
       "      <td>2022-01-19 12:50:24+00:00</td>\n",
       "      <td>0</td>\n",
       "    </tr>\n",
       "    <tr>\n",
       "      <th>8</th>\n",
       "      <td>RT @BrandonColl_: I have 10 #BNB  to invest in...</td>\n",
       "      <td>2022-01-19 12:50:15+00:00</td>\n",
       "      <td>0</td>\n",
       "    </tr>\n",
       "    <tr>\n",
       "      <th>9</th>\n",
       "      <td>RT @GenXdoger: #doge #dogecoin https://t.co/Gp...</td>\n",
       "      <td>2022-01-19 12:50:11+00:00</td>\n",
       "      <td>0</td>\n",
       "    </tr>\n",
       "  </tbody>\n",
       "</table>\n",
       "</div>"
      ],
      "text/plain": [
       "                                              Tweets  \\\n",
       "0  RT @DogeKnight_bsc: 🔥DogeKnight: The first P2E...   \n",
       "1  RT @IAmDogeBot: Current #DOGE Price is $0.1654...   \n",
       "2  RT @KriptoUzmanim: 1 Kişiye 500TL Çekilişi !! ...   \n",
       "3  RT @FlokiMooni: Dear Flokimoonies,\\nwe are hap...   \n",
       "4  RT @Vforrkripto: 7ay  Önce Bu Hesapta 6-7 Kişi...   \n",
       "5  👑@kingforeverbsc👑 Bridged bridge 🌉 is coming, ...   \n",
       "6  RT @Moon_Elon_doge: #mission_moon \\n#MED_SOLDI...   \n",
       "7  RT @egeharputlu_: 🔥 #ÇEKİLİŞ 🔥\\n\\n1 Kişiye 2 a...   \n",
       "8  RT @BrandonColl_: I have 10 #BNB  to invest in...   \n",
       "9  RT @GenXdoger: #doge #dogecoin https://t.co/Gp...   \n",
       "\n",
       "                  Timestamp  DOGE  \n",
       "0 2022-01-19 12:50:56+00:00     1  \n",
       "1 2022-01-19 12:50:51+00:00     1  \n",
       "2 2022-01-19 12:50:48+00:00     0  \n",
       "3 2022-01-19 12:50:46+00:00     0  \n",
       "4 2022-01-19 12:50:41+00:00     0  \n",
       "5 2022-01-19 12:50:38+00:00     0  \n",
       "6 2022-01-19 12:50:35+00:00     1  \n",
       "7 2022-01-19 12:50:24+00:00     0  \n",
       "8 2022-01-19 12:50:15+00:00     0  \n",
       "9 2022-01-19 12:50:11+00:00     0  "
      ]
     },
     "execution_count": 33,
     "metadata": {},
     "output_type": "execute_result"
    }
   ],
   "source": [
    "def identify_subject(tweet, refs):\n",
    "    flag = 0 \n",
    "    for ref in refs:\n",
    "        if tweet.find(ref) != -1:\n",
    "            flag = 1\n",
    "    return flag\n",
    "\n",
    "\n",
    "df_doge['DOGE'] = df_doge['Tweets'].apply(lambda x: identify_subject(x, doge_handle))\n",
    "df_shib['SHIB'] = df_shib['Tweets'].apply(lambda x: identify_subject(x, shib_handle)) \n",
    "\n",
    "df_shib.head(10)\n",
    "df_doge.head(10)\n"
   ]
  },
  {
   "cell_type": "code",
   "execution_count": 34,
   "metadata": {},
   "outputs": [
    {
     "name": "stdout",
     "output_type": "stream",
     "text": [
      "                                                 Tweets  \\\n",
      "0     RT @DogeKnight_bsc: 🔥DogeKnight: The first P2E...   \n",
      "1     RT @IAmDogeBot: Current #DOGE Price is $0.1654...   \n",
      "2     RT @KriptoUzmanim: 1 Kişiye 500TL Çekilişi !! ...   \n",
      "3     RT @FlokiMooni: Dear Flokimoonies,\\nwe are hap...   \n",
      "4     RT @Vforrkripto: 7ay  Önce Bu Hesapta 6-7 Kişi...   \n",
      "...                                                 ...   \n",
      "9995  RT @VT6688: Which #Crypto Has The Strongest Co...   \n",
      "9996  RT @OKEx_Latam: 📈 ¡Compra #BabyDoge y otras #m...   \n",
      "9997  why #starl?\\n✓#3A #Metaverse #gamefi #playtoea...   \n",
      "9998  RT @VT6688: Which #Crypto Has The Strongest Co...   \n",
      "9999  RT @BeishuizenEllen: Holders\\n1,145,770 ( +0.0...   \n",
      "\n",
      "                     Timestamp  DOGE  SHIB  \n",
      "0    2022-01-19 12:50:56+00:00   1.0   NaN  \n",
      "1    2022-01-19 12:50:51+00:00   1.0   NaN  \n",
      "2    2022-01-19 12:50:48+00:00   0.0   NaN  \n",
      "3    2022-01-19 12:50:46+00:00   0.0   NaN  \n",
      "4    2022-01-19 12:50:41+00:00   0.0   NaN  \n",
      "...                        ...   ...   ...  \n",
      "9995 2022-01-19 09:18:12+00:00   NaN   1.0  \n",
      "9996 2022-01-19 09:18:09+00:00   NaN   0.0  \n",
      "9997 2022-01-19 09:18:09+00:00   NaN   0.0  \n",
      "9998 2022-01-19 09:18:03+00:00   NaN   1.0  \n",
      "9999 2022-01-19 09:17:58+00:00   NaN   1.0  \n",
      "\n",
      "[20000 rows x 4 columns]\n"
     ]
    }
   ],
   "source": [
    "df = [df_doge, df_shib]\n",
    "result = pd.concat(df)\n",
    "print(result)"
   ]
  },
  {
   "cell_type": "code",
   "execution_count": 35,
   "metadata": {},
   "outputs": [],
   "source": [
    "result.to_csv(r'dogeshibdataset.csv')"
   ]
  },
  {
   "cell_type": "code",
   "execution_count": 36,
   "metadata": {},
   "outputs": [],
   "source": [
    "df=result\n",
    "df['DOGE'] = df['DOGE'].fillna(0)\n",
    "df['SHIB'] = df['SHIB'].fillna(0)\n",
    "df.to_csv(r'dogeshibdataset.csv')"
   ]
  },
  {
   "cell_type": "code",
   "execution_count": 37,
   "metadata": {},
   "outputs": [
    {
     "data": {
      "text/html": [
       "<div>\n",
       "<style scoped>\n",
       "    .dataframe tbody tr th:only-of-type {\n",
       "        vertical-align: middle;\n",
       "    }\n",
       "\n",
       "    .dataframe tbody tr th {\n",
       "        vertical-align: top;\n",
       "    }\n",
       "\n",
       "    .dataframe thead th {\n",
       "        text-align: right;\n",
       "    }\n",
       "</style>\n",
       "<table border=\"1\" class=\"dataframe\">\n",
       "  <thead>\n",
       "    <tr style=\"text-align: right;\">\n",
       "      <th></th>\n",
       "      <th>Tweets</th>\n",
       "      <th>Timestamp</th>\n",
       "      <th>DOGE</th>\n",
       "      <th>SHIB</th>\n",
       "    </tr>\n",
       "  </thead>\n",
       "  <tbody>\n",
       "    <tr>\n",
       "      <th>0</th>\n",
       "      <td>RT @DogeKnight_bsc: 🔥DogeKnight: The first P2E...</td>\n",
       "      <td>2022-01-19 12:50:56+00:00</td>\n",
       "      <td>1.0</td>\n",
       "      <td>0.0</td>\n",
       "    </tr>\n",
       "    <tr>\n",
       "      <th>1</th>\n",
       "      <td>RT @IAmDogeBot: Current #DOGE Price is $0.1654...</td>\n",
       "      <td>2022-01-19 12:50:51+00:00</td>\n",
       "      <td>1.0</td>\n",
       "      <td>0.0</td>\n",
       "    </tr>\n",
       "    <tr>\n",
       "      <th>2</th>\n",
       "      <td>RT @KriptoUzmanim: 1 Kişiye 500TL Çekilişi !! ...</td>\n",
       "      <td>2022-01-19 12:50:48+00:00</td>\n",
       "      <td>0.0</td>\n",
       "      <td>0.0</td>\n",
       "    </tr>\n",
       "    <tr>\n",
       "      <th>3</th>\n",
       "      <td>RT @FlokiMooni: Dear Flokimoonies,\\nwe are hap...</td>\n",
       "      <td>2022-01-19 12:50:46+00:00</td>\n",
       "      <td>0.0</td>\n",
       "      <td>0.0</td>\n",
       "    </tr>\n",
       "    <tr>\n",
       "      <th>4</th>\n",
       "      <td>RT @Vforrkripto: 7ay  Önce Bu Hesapta 6-7 Kişi...</td>\n",
       "      <td>2022-01-19 12:50:41+00:00</td>\n",
       "      <td>0.0</td>\n",
       "      <td>0.0</td>\n",
       "    </tr>\n",
       "  </tbody>\n",
       "</table>\n",
       "</div>"
      ],
      "text/plain": [
       "                                              Tweets  \\\n",
       "0  RT @DogeKnight_bsc: 🔥DogeKnight: The first P2E...   \n",
       "1  RT @IAmDogeBot: Current #DOGE Price is $0.1654...   \n",
       "2  RT @KriptoUzmanim: 1 Kişiye 500TL Çekilişi !! ...   \n",
       "3  RT @FlokiMooni: Dear Flokimoonies,\\nwe are hap...   \n",
       "4  RT @Vforrkripto: 7ay  Önce Bu Hesapta 6-7 Kişi...   \n",
       "\n",
       "                  Timestamp  DOGE  SHIB  \n",
       "0 2022-01-19 12:50:56+00:00   1.0   0.0  \n",
       "1 2022-01-19 12:50:51+00:00   1.0   0.0  \n",
       "2 2022-01-19 12:50:48+00:00   0.0   0.0  \n",
       "3 2022-01-19 12:50:46+00:00   0.0   0.0  \n",
       "4 2022-01-19 12:50:41+00:00   0.0   0.0  "
      ]
     },
     "execution_count": 37,
     "metadata": {},
     "output_type": "execute_result"
    }
   ],
   "source": [
    "df.head()"
   ]
  },
  {
   "cell_type": "code",
   "execution_count": 38,
   "metadata": {},
   "outputs": [
    {
     "name": "stdout",
     "output_type": "stream",
     "text": [
      "Requirement already satisfied: textblob in d:\\prog\\anaconda\\lib\\site-packages (0.17.1)\n",
      "Requirement already satisfied: nltk>=3.1 in d:\\prog\\anaconda\\lib\\site-packages (from textblob) (3.5)\n",
      "Requirement already satisfied: regex in d:\\prog\\anaconda\\lib\\site-packages (from nltk>=3.1->textblob) (2020.10.15)\n",
      "Requirement already satisfied: click in d:\\prog\\anaconda\\lib\\site-packages (from nltk>=3.1->textblob) (7.1.2)\n",
      "Requirement already satisfied: joblib in d:\\prog\\anaconda\\lib\\site-packages (from nltk>=3.1->textblob) (0.17.0)\n",
      "Requirement already satisfied: tqdm in d:\\prog\\anaconda\\lib\\site-packages (from nltk>=3.1->textblob) (4.50.2)\n"
     ]
    },
    {
     "name": "stderr",
     "output_type": "stream",
     "text": [
      "WARNING: Ignoring invalid distribution -tkinter-pymol (d:\\prog\\anaconda\\dlls)\n",
      "WARNING: Ignoring invalid distribution -tkinter-pymol (d:\\prog\\anaconda\\dlls)\n",
      "WARNING: Ignoring invalid distribution -tkinter-pymol (d:\\prog\\anaconda\\dlls)\n",
      "WARNING: Ignoring invalid distribution -tkinter-pymol (d:\\prog\\anaconda\\dlls)\n",
      "WARNING: Ignoring invalid distribution -tkinter-pymol (d:\\prog\\anaconda\\dlls)\n"
     ]
    }
   ],
   "source": [
    "!pip install textblob"
   ]
  },
  {
   "cell_type": "markdown",
   "metadata": {},
   "source": [
    "Project begins down here!\n",
    "Data already retrieved in the above steps"
   ]
  },
  {
   "cell_type": "code",
   "execution_count": 39,
   "metadata": {},
   "outputs": [],
   "source": [
    "#PreProcessing We'll use the natural language toolkit\n",
    "import nltk\n",
    "from nltk.corpus import stopwords\n",
    "\n",
    "# import textblob\n",
    "from textblob import Word,TextBlob\n",
    "import pandas as pd\n",
    "df = pd.read_csv ('dogeshibdataset.csv')\n"
   ]
  },
  {
   "cell_type": "code",
   "execution_count": 40,
   "metadata": {},
   "outputs": [],
   "source": [
    "import numpy as np"
   ]
  },
  {
   "cell_type": "code",
   "execution_count": 41,
   "metadata": {},
   "outputs": [
    {
     "name": "stderr",
     "output_type": "stream",
     "text": [
      "[nltk_data] Downloading package stopwords to\n",
      "[nltk_data]     C:\\Users\\ANURAG\\AppData\\Roaming\\nltk_data...\n",
      "[nltk_data]   Package stopwords is already up-to-date!\n",
      "[nltk_data] Downloading package wordnet to\n",
      "[nltk_data]     C:\\Users\\ANURAG\\AppData\\Roaming\\nltk_data...\n",
      "[nltk_data]   Package wordnet is already up-to-date!\n"
     ]
    }
   ],
   "source": [
    "nltk.download('stopwords')\n",
    "nltk.download('wordnet')\n",
    "stop_words = stopwords.words('english')\n",
    "custom_stopwords = ['RT', '#SHIB','#DOGE','#CRYPTO','#Elon','#Dogecoin']"
   ]
  },
  {
   "cell_type": "code",
   "execution_count": 42,
   "metadata": {},
   "outputs": [
    {
     "data": {
      "text/html": [
       "<div>\n",
       "<style scoped>\n",
       "    .dataframe tbody tr th:only-of-type {\n",
       "        vertical-align: middle;\n",
       "    }\n",
       "\n",
       "    .dataframe tbody tr th {\n",
       "        vertical-align: top;\n",
       "    }\n",
       "\n",
       "    .dataframe thead th {\n",
       "        text-align: right;\n",
       "    }\n",
       "</style>\n",
       "<table border=\"1\" class=\"dataframe\">\n",
       "  <thead>\n",
       "    <tr style=\"text-align: right;\">\n",
       "      <th></th>\n",
       "      <th>Unnamed: 0</th>\n",
       "      <th>Tweets</th>\n",
       "      <th>Timestamp</th>\n",
       "      <th>DOGE</th>\n",
       "      <th>SHIB</th>\n",
       "      <th>Processed Tweet</th>\n",
       "    </tr>\n",
       "  </thead>\n",
       "  <tbody>\n",
       "    <tr>\n",
       "      <th>0</th>\n",
       "      <td>0</td>\n",
       "      <td>RT @DogeKnight_bsc: 🔥DogeKnight: The first P2E...</td>\n",
       "      <td>2022-01-19 12:50:56+00:00</td>\n",
       "      <td>1.0</td>\n",
       "      <td>0.0</td>\n",
       "      <td>@DogeKnight_bsc: 🔥DogeKnight: The first P2E pl...</td>\n",
       "    </tr>\n",
       "    <tr>\n",
       "      <th>1</th>\n",
       "      <td>1</td>\n",
       "      <td>RT @IAmDogeBot: Current #DOGE Price is $0.1654...</td>\n",
       "      <td>2022-01-19 12:50:51+00:00</td>\n",
       "      <td>1.0</td>\n",
       "      <td>0.0</td>\n",
       "      <td>@IAmDogeBot: Current Price $0.165421 #Crypto #...</td>\n",
       "    </tr>\n",
       "    <tr>\n",
       "      <th>2</th>\n",
       "      <td>2</td>\n",
       "      <td>RT @KriptoUzmanim: 1 Kişiye 500TL Çekilişi !! ...</td>\n",
       "      <td>2022-01-19 12:50:48+00:00</td>\n",
       "      <td>0.0</td>\n",
       "      <td>0.0</td>\n",
       "      <td>@KriptoUzmanim: 1 Kişiye 500TL Çekilişi !! 🎉 -...</td>\n",
       "    </tr>\n",
       "    <tr>\n",
       "      <th>3</th>\n",
       "      <td>3</td>\n",
       "      <td>RT @FlokiMooni: Dear Flokimoonies,\\nwe are hap...</td>\n",
       "      <td>2022-01-19 12:50:46+00:00</td>\n",
       "      <td>0.0</td>\n",
       "      <td>0.0</td>\n",
       "      <td>@FlokiMooni: Dear Flokimoonies, happy show Ful...</td>\n",
       "    </tr>\n",
       "    <tr>\n",
       "      <th>4</th>\n",
       "      <td>4</td>\n",
       "      <td>RT @Vforrkripto: 7ay  Önce Bu Hesapta 6-7 Kişi...</td>\n",
       "      <td>2022-01-19 12:50:41+00:00</td>\n",
       "      <td>0.0</td>\n",
       "      <td>0.0</td>\n",
       "      <td>@Vforrkripto: 7ay Önce Bu Hesapta 6-7 Kişi Var...</td>\n",
       "    </tr>\n",
       "  </tbody>\n",
       "</table>\n",
       "</div>"
      ],
      "text/plain": [
       "   Unnamed: 0                                             Tweets  \\\n",
       "0           0  RT @DogeKnight_bsc: 🔥DogeKnight: The first P2E...   \n",
       "1           1  RT @IAmDogeBot: Current #DOGE Price is $0.1654...   \n",
       "2           2  RT @KriptoUzmanim: 1 Kişiye 500TL Çekilişi !! ...   \n",
       "3           3  RT @FlokiMooni: Dear Flokimoonies,\\nwe are hap...   \n",
       "4           4  RT @Vforrkripto: 7ay  Önce Bu Hesapta 6-7 Kişi...   \n",
       "\n",
       "                   Timestamp  DOGE  SHIB  \\\n",
       "0  2022-01-19 12:50:56+00:00   1.0   0.0   \n",
       "1  2022-01-19 12:50:51+00:00   1.0   0.0   \n",
       "2  2022-01-19 12:50:48+00:00   0.0   0.0   \n",
       "3  2022-01-19 12:50:46+00:00   0.0   0.0   \n",
       "4  2022-01-19 12:50:41+00:00   0.0   0.0   \n",
       "\n",
       "                                     Processed Tweet  \n",
       "0  @DogeKnight_bsc: 🔥DogeKnight: The first P2E pl...  \n",
       "1  @IAmDogeBot: Current Price $0.165421 #Crypto #...  \n",
       "2  @KriptoUzmanim: 1 Kişiye 500TL Çekilişi !! 🎉 -...  \n",
       "3  @FlokiMooni: Dear Flokimoonies, happy show Ful...  \n",
       "4  @Vforrkripto: 7ay Önce Bu Hesapta 6-7 Kişi Var...  "
      ]
     },
     "execution_count": 42,
     "metadata": {},
     "output_type": "execute_result"
    }
   ],
   "source": [
    "def preprocess_tweets(tweet, custom_stopwords):\n",
    "    processed_tweet = tweet\n",
    "    processed_tweet.replace('[^\\w\\s]', '')\n",
    "    processed_tweet = \" \".join(word for word in processed_tweet.split() if word not in stop_words)\n",
    "    processed_tweet = \" \".join(word for word in processed_tweet.split() if word not in custom_stopwords)\n",
    "    processed_tweet = \" \".join(Word(word).lemmatize() for word in processed_tweet.split())\n",
    "    return(processed_tweet)\n",
    "\n",
    "df['Processed Tweet'] = df['Tweets'].apply(lambda x: preprocess_tweets(x, custom_stopwords))\n",
    "df.head()"
   ]
  },
  {
   "cell_type": "markdown",
   "metadata": {},
   "source": [
    "### Calculating the Sentiment"
   ]
  },
  {
   "cell_type": "code",
   "execution_count": 43,
   "metadata": {},
   "outputs": [
    {
     "data": {
      "text/html": [
       "<div>\n",
       "<style scoped>\n",
       "    .dataframe tbody tr th:only-of-type {\n",
       "        vertical-align: middle;\n",
       "    }\n",
       "\n",
       "    .dataframe tbody tr th {\n",
       "        vertical-align: top;\n",
       "    }\n",
       "\n",
       "    .dataframe thead th {\n",
       "        text-align: right;\n",
       "    }\n",
       "</style>\n",
       "<table border=\"1\" class=\"dataframe\">\n",
       "  <thead>\n",
       "    <tr style=\"text-align: right;\">\n",
       "      <th></th>\n",
       "      <th>Processed Tweet</th>\n",
       "      <th>DOGE</th>\n",
       "      <th>SHIB</th>\n",
       "      <th>polarity</th>\n",
       "      <th>subjectivity</th>\n",
       "    </tr>\n",
       "  </thead>\n",
       "  <tbody>\n",
       "    <tr>\n",
       "      <th>0</th>\n",
       "      <td>@DogeKnight_bsc: 🔥DogeKnight: The first P2E pl...</td>\n",
       "      <td>1.0</td>\n",
       "      <td>0.0</td>\n",
       "      <td>-0.075000</td>\n",
       "      <td>0.366667</td>\n",
       "    </tr>\n",
       "    <tr>\n",
       "      <th>1</th>\n",
       "      <td>@IAmDogeBot: Current Price $0.165421 #Crypto #...</td>\n",
       "      <td>1.0</td>\n",
       "      <td>0.0</td>\n",
       "      <td>0.000000</td>\n",
       "      <td>0.400000</td>\n",
       "    </tr>\n",
       "    <tr>\n",
       "      <th>2</th>\n",
       "      <td>@KriptoUzmanim: 1 Kişiye 500TL Çekilişi !! 🎉 -...</td>\n",
       "      <td>0.0</td>\n",
       "      <td>0.0</td>\n",
       "      <td>0.000000</td>\n",
       "      <td>0.000000</td>\n",
       "    </tr>\n",
       "    <tr>\n",
       "      <th>3</th>\n",
       "      <td>@FlokiMooni: Dear Flokimoonies, happy show Ful...</td>\n",
       "      <td>0.0</td>\n",
       "      <td>0.0</td>\n",
       "      <td>0.383333</td>\n",
       "      <td>0.516667</td>\n",
       "    </tr>\n",
       "    <tr>\n",
       "      <th>4</th>\n",
       "      <td>@Vforrkripto: 7ay Önce Bu Hesapta 6-7 Kişi Var...</td>\n",
       "      <td>0.0</td>\n",
       "      <td>0.0</td>\n",
       "      <td>0.000000</td>\n",
       "      <td>0.000000</td>\n",
       "    </tr>\n",
       "  </tbody>\n",
       "</table>\n",
       "</div>"
      ],
      "text/plain": [
       "                                     Processed Tweet  DOGE  SHIB  polarity  \\\n",
       "0  @DogeKnight_bsc: 🔥DogeKnight: The first P2E pl...   1.0   0.0 -0.075000   \n",
       "1  @IAmDogeBot: Current Price $0.165421 #Crypto #...   1.0   0.0  0.000000   \n",
       "2  @KriptoUzmanim: 1 Kişiye 500TL Çekilişi !! 🎉 -...   0.0   0.0  0.000000   \n",
       "3  @FlokiMooni: Dear Flokimoonies, happy show Ful...   0.0   0.0  0.383333   \n",
       "4  @Vforrkripto: 7ay Önce Bu Hesapta 6-7 Kişi Var...   0.0   0.0  0.000000   \n",
       "\n",
       "   subjectivity  \n",
       "0      0.366667  \n",
       "1      0.400000  \n",
       "2      0.000000  \n",
       "3      0.516667  \n",
       "4      0.000000  "
      ]
     },
     "execution_count": 43,
     "metadata": {},
     "output_type": "execute_result"
    }
   ],
   "source": [
    "df['polarity'] = df['Processed Tweet'].apply(lambda x: TextBlob(x).sentiment[0])\n",
    "df['subjectivity'] = df['Processed Tweet'].apply(lambda x: TextBlob(x).sentiment[1])\n",
    "df[['Processed Tweet', 'DOGE', 'SHIB', 'polarity', 'subjectivity']].head()"
   ]
  },
  {
   "cell_type": "code",
   "execution_count": 44,
   "metadata": {},
   "outputs": [
    {
     "name": "stdout",
     "output_type": "stream",
     "text": [
      "      polarity                  subjectivity                    \n",
      "          mean amax amin median         mean amax amin    median\n",
      "DOGE                                                            \n",
      "1.0   0.052625  1.0 -1.0    0.0     0.237627  1.0  0.0  0.142857\n",
      "      polarity                  subjectivity                 \n",
      "          mean amax amin median         mean amax amin median\n",
      "SHIB                                                         \n",
      "1.0   0.106536  1.0 -1.0    0.0     0.190672  1.0  0.0    0.0\n"
     ]
    }
   ],
   "source": [
    "print(df[df['DOGE']==1][['DOGE','polarity','subjectivity']].groupby('DOGE').agg([np.mean, np.max, np.min, np.median]))\n",
    "print(df[df['SHIB']==1][['SHIB','polarity','subjectivity']].groupby('SHIB').agg([np.mean, np.max, np.min, np.median]))\n"
   ]
  },
  {
   "cell_type": "markdown",
   "metadata": {},
   "source": [
    "We can see that SHIB has a marginally higher positive polarity rate and DOGE has a higher subjectivity while SHIB has a lesser subjectivity so it is inclined more towards the objective side.\n",
    "So,According to this data,SHIB is liked a little more by people because of very objective reasoning \n",
    "and DOGE is liked marginally less but has more emotion or subjectivity associated to it, which possibly can be attributed to it being overhyped by Billionaire celebrities and other sensations.One can make the assumption that ,SHIB is more popular among actual crypto investors because of the tweets being more objective whereas DOGE being tried out people based off of FOMO or just to not get left behind.However, the data from twitter is not a good determinant of how professional investors feel about a certain cryptocurrency and this might be a highly misbalanced dataset for such an analysis ,but from this data we can visualise that following.\n"
   ]
  },
  {
   "cell_type": "markdown",
   "metadata": {},
   "source": [
    "#### Visualisation"
   ]
  },
  {
   "cell_type": "code",
   "execution_count": 45,
   "metadata": {},
   "outputs": [],
   "source": [
    "Shib = df[df['SHIB']==1][['Timestamp', 'polarity']]\n",
    "Shib = Shib.sort_values(by='Timestamp', ascending=True)\n",
    "Shib['MA Polarity'] = Shib.polarity.rolling(10, min_periods=3).mean()\n",
    "\n",
    "Doge = df[df['DOGE']==1][['Timestamp', 'polarity']]\n",
    "Doge = Doge.sort_values(by='Timestamp', ascending=True)\n",
    "Doge['MA Polarity'] = Doge.polarity.rolling(10, min_periods=3).mean()"
   ]
  },
  {
   "cell_type": "code",
   "execution_count": 46,
   "metadata": {},
   "outputs": [],
   "source": [
    "from matplotlib import pyplot as plt"
   ]
  },
  {
   "cell_type": "code",
   "execution_count": 47,
   "metadata": {},
   "outputs": [
    {
     "data": {
      "image/png": "[encoded data removed]",
      "text/plain": [
       "<Figure size 936x720 with 2 Axes>"
      ]
     },
     "metadata": {
      "needs_background": "light"
     },
     "output_type": "display_data"
    }
   ],
   "source": [
    "repub = 'red'\n",
    "demo = 'green'\n",
    "fig, axes = plt.subplots(2, 1, figsize=(13, 10))\n",
    "\n",
    "axes[0].plot(Shib['Timestamp'], Shib['MA Polarity'])\n",
    "axes[0].set_title(\"\\n\".join([\"$SHIB Polarity\"]))\n",
    "axes[1].plot(Doge['Timestamp'], Doge['MA Polarity'], color='red')\n",
    "axes[1].set_title(\"\\n\".join([\"$DOGE coin Polarity\"]))\n",
    "\n",
    "fig.suptitle(\"\\n\".join([\"Crypto Analysis\"]), y=0.98)\n",
    "\n",
    "plt.show()"
   ]
  }
 ],
 "metadata": {
  "kernelspec": {
   "display_name": "Python 3",
   "language": "python",
   "name": "python3"
  },
  "language_info": {
   "codemirror_mode": {
    "name": "ipython",
    "version": 3
   },
   "file_extension": ".py",
   "mimetype": "text/x-python",
   "name": "python",
   "nbconvert_exporter": "python",
   "pygments_lexer": "ipython3",
   "version": "3.8.5"
  }
 },
 "nbformat": 4,
 "nbformat_minor": 4
}
